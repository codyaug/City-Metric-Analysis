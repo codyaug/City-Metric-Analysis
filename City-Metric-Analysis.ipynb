{
 "cells": [
  {
   "cell_type": "code",
   "execution_count": null,
   "id": "5f127e3e",
   "metadata": {},
   "outputs": [],
   "source": [
    "import pandas as pd\n",
    "import numpy as np\n",
    "import matplotlib.pyplot as plt"
   ]
  },
  {
   "cell_type": "code",
   "execution_count": null,
   "id": "cc746bee",
   "metadata": {},
   "outputs": [],
   "source": [
    "# Load in the data\n",
    "rent_data = pd.read_csv(\"rent_data.csv\")\n",
    "population_data = pd.read_csv(\"population_data.csv\")\n",
    "economic_data = pd.read_csv(\"economic_data.csv\")"
   ]
  },
  {
   "cell_type": "code",
   "execution_count": null,
   "id": "41a98208",
   "metadata": {},
   "outputs": [],
   "source": [
    "# Merge the dataframes on the city column\n",
    "df = pd.merge(rent_data, population_data, on=\"city\")\n",
    "df = pd.merge(df, economic_data, on=\"city\")\n",
    "\n",
    "# Calculate the rent to price ratio\n",
    "df[\"rent_to_price_ratio\"] = df[\"median_rent\"] / df[\"median_home_price\"]\n",
    "\n",
    "# Calculate the population growth rate\n",
    "df[\"population_growth_rate\"] = (df[\"population_2022\"] - df[\"population_2021\"]) / df[\"population_2021\"]\n",
    "\n",
    "# Calculate the economic growth rate\n",
    "df[\"economic_growth_rate\"] = (df[\"average_wage_2022\"] - df[\"average_wage_2021\"]) / df[\"average_wage_2021\"]\n",
    "\n",
    "# Calculate the job growth rate\n",
    "df[\"job_growth_rate\"] = (df[\"number_of_jobs_2022\"] - df[\"number_of_jobs_2021\"]) / df[\"number_of_jobs_2021\"]\n",
    "\n",
    "# Group the data by region\n",
    "df_grouped_by_region = df.groupby([\"region\"]).mean()"
   ]
  },
  {
   "cell_type": "code",
   "execution_count": null,
   "id": "4db585ec",
   "metadata": {},
   "outputs": [],
   "source": [
    "# Normalize the data\n",
    "df_normalized = df.copy()\n",
    "df_normalized[\"median_rent\"] = df_normalized[\"median_rent\"] / df_normalized[\"population\"]\n",
    "df_normalized[\"median_home_price\"] = df_normalized[\"median_home_price\"] / df_normalized[\"population\"]\n",
    "df_normalized[\"average_wage_2022\"] = df_normalized[\"average_wage_2022\"] / df_normalized[\"population\"]\n",
    "df_normalized[\"number_of_jobs_2022\"] = df_normalized[\"number_of_jobs_2022\"] / df_normalized[\"population\"]"
   ]
  },
  {
   "cell_type": "code",
   "execution_count": null,
   "id": "d12b035b",
   "metadata": {},
   "outputs": [],
   "source": [
    "# Plot the data\n",
    "plt.scatter(df_normalized[\"economic_growth_rate\"], df_normalized[\"rent_to_price_ratio\"])\n",
    "plt.xlabel(\"Economic Growth Rate\")\n",
    "plt.ylabel(\"Rent to Price Ratio\")\n",
    "plt.title(\"Rent to Price Ratio vs. Economic Growth Rate\")\n",
    "plt.show()"
   ]
  },
  {
   "cell_type": "code",
   "execution_count": null,
   "id": "9a526b40",
   "metadata": {},
   "outputs": [],
   "source": [
    "plt.scatter(df_normalized[\"job_growth_rate\"], df_normalized[\"rent_to_price_ratio\"])\n",
    "plt.xlabel(\"Job Growth Rate\")\n",
    "plt.ylabel(\"Rent to Price Ratio\")\n",
    "plt.title(\"Rent to Price Ratio vs. Job Growth Rate\")\n",
    "plt.show()"
   ]
  },
  {
   "cell_type": "code",
   "execution_count": null,
   "id": "10fa9946",
   "metadata": {},
   "outputs": [],
   "source": [
    "plt.scatter(df_normalized[\"population_growth_rate\"], df_normalized[\"rent_to_price_ratio\"])\n",
    "plt.xlabel(\"Population Growth Rate\")\n",
    "plt.ylabel(\"Rent to Price Ratio\")\n",
    "plt.title(\"Rent to Price Ratio vs. Population Growth Rate"
   ]
  }
 ],
 "metadata": {
  "kernelspec": {
   "display_name": "Python 3 (ipykernel)",
   "language": "python",
   "name": "python3"
  },
  "language_info": {
   "codemirror_mode": {
    "name": "ipython",
    "version": 3
   },
   "file_extension": ".py",
   "mimetype": "text/x-python",
   "name": "python",
   "nbconvert_exporter": "python",
   "pygments_lexer": "ipython3",
   "version": "3.9.13"
  }
 },
 "nbformat": 4,
 "nbformat_minor": 5
}
